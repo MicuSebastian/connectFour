{
  "nbformat": 4,
  "nbformat_minor": 0,
  "metadata": {
    "colab": {
      "name": "Micu_Sebastian_1240F_Devoir1.ipynb",
      "provenance": [],
      "collapsed_sections": []
    },
    "kernelspec": {
      "name": "python3",
      "display_name": "Python 3"
    },
    "language_info": {
      "name": "python"
    }
  },
  "cells": [
    {
      "cell_type": "markdown",
      "metadata": {
        "id": "MlP_Dnlvbqo3"
      },
      "source": [
        "# Micu Sebastian - 1240F - Devoir 1"
      ]
    },
    {
      "cell_type": "markdown",
      "metadata": {
        "id": "m174NYGQcHin"
      },
      "source": [
        "Les librairies que j'ai utilisées"
      ]
    },
    {
      "cell_type": "code",
      "metadata": {
        "id": "vht3wQa4cNv3"
      },
      "source": [
        "from collections import defaultdict\n",
        "import random\n",
        "import math\n",
        "import numpy as np"
      ],
      "execution_count": 158,
      "outputs": []
    },
    {
      "cell_type": "markdown",
      "metadata": {
        "id": "cIpoKHxIcbI_"
      },
      "source": [
        "La class *Board*\n",
        "\n",
        "Pour cette classe, la valeur d'utilité peut être:\n",
        "  \n",
        "\n",
        "*   **-1** si le joueur qui cherche à obtenir un minimum va gagner;\n",
        "*   **0** s'il y a égalité;\n",
        "*   **1** si le joueur qui cherche à obtenir un maximum va gagner."
      ]
    },
    {
      "cell_type": "code",
      "metadata": {
        "id": "XkqDJLT2cZn3"
      },
      "source": [
        "class Board(defaultdict):\n",
        "    empty = '.'\n",
        "    used = '#'\n",
        "    \n",
        "    def __init__(self, width=8, height=8, current_player=None, **kwds):\n",
        "        self.__dict__.update(width=width, height=height, current_player=current_player, **kwds)\n",
        " \n",
        "    def __missing__(self, pos):\n",
        "        a, b = pos\n",
        "        if (a < self.width and a >= 0) and (b < self.height and b >= 0):\n",
        "          return self.empty\n",
        "        else:\n",
        "          return self.used\n",
        "            \n",
        "    def __hash__(self): \n",
        "        return hash(tuple(sorted(self.items()))) + hash(self.current_player)\n",
        "    \n",
        "    def __repr__(self):\n",
        "        def row(y): \n",
        "            return ' '.join(self[x, y] for x in range(self.width))\n",
        "        return '\\n'.join(map(row, range(self.height))) +  '\\n'\n",
        "    \n",
        "    def update_board(self, changes: dict, **kwds) -> 'Board':\n",
        "        board = Board(self.width, self.height, **kwds)\n",
        "        board.update(self)\n",
        "        board.update(changes)\n",
        "        return board"
      ],
      "execution_count": 159,
      "outputs": []
    },
    {
      "cell_type": "markdown",
      "metadata": {
        "id": "U__q5-tecf2A"
      },
      "source": [
        "La fonction *k_in_row* pour calculer les symboles 'X' et 'O' dans en ligne."
      ]
    },
    {
      "cell_type": "code",
      "metadata": {
        "id": "OjfNYNMecgIn"
      },
      "source": [
        "def k_in_row(board, player, square, k):\n",
        "    def in_row(x, y, dx, dy): return 0 if board[x, y] != player else 1 + in_row(x + dx, y + dy, dx, dy)\n",
        "    return any(in_row(*square, dx, dy) + in_row(*square, -dx, -dy) - 1 >= k for (dx, dy) in ((0, 1), (1, 0), (1, 1), (1, -1)))"
      ],
      "execution_count": 160,
      "outputs": []
    },
    {
      "cell_type": "markdown",
      "metadata": {
        "id": "7H7fS81Scgc_"
      },
      "source": [
        "La class *TicTacToe*"
      ]
    },
    {
      "cell_type": "code",
      "metadata": {
        "id": "YGylpeXlchmH"
      },
      "source": [
        "class TicTacToe:\n",
        "    \n",
        "    def __init__(self, height=3, width=3, k=3):\n",
        "        self.k = k\n",
        "        self.squares = {(x, y) for x in range(width) for y in range(height)}\n",
        "        self.initial = Board(width, height, 'X', utility=0) # Le Board avec les paramètres de largeur et de hauteur, où X joue en premier et la valeur d'utilité est 0.\n",
        " \n",
        "    def actions(self, board):\n",
        "        return self.squares - set(board) # Définissez les déplacements possibles pour les positions autorisées.\n",
        "\n",
        "    def utility(self, board, player):\n",
        "        return board.utility if player == 'X' else -board.utility\n",
        "\n",
        "    def make_move(self, board, square):\n",
        "        player = board.current_player\n",
        "        board = board.update_board({square: player}, current_player=('O' if player == 'X' else 'X')) # Mettez à jour le Board au cas où le joueur actuel placerait son symbole\n",
        "        res = k_in_row(board, player, square, self.k)\n",
        "        board.utility = (0 if not res else +1 if player == 'X' else -1) # Mettez à jour l'utility du Board avec le symbole correspondant pour chaque joueur.\n",
        "\n",
        "        return board\n",
        "    \n",
        "    def end(self, board):\n",
        "        return board.utility != 0 or len(self.squares) == len(board) # Vérifie si le jeu est terminé.\n",
        " \n",
        "    def draw_board(self, board):\n",
        "        print(board)"
      ],
      "execution_count": 161,
      "outputs": []
    },
    {
      "cell_type": "markdown",
      "metadata": {
        "id": "Fiza_XMKvncA"
      },
      "source": [
        "Robot aléatoire"
      ]
    },
    {
      "cell_type": "code",
      "metadata": {
        "id": "heM0iP1jvnqf"
      },
      "source": [
        "def random_player(game, state):\n",
        "    return random.choice(list(game.actions(state))) # Définition d'un joueur qui utilise toujours des mouvements aléatoires."
      ],
      "execution_count": 162,
      "outputs": []
    },
    {
      "cell_type": "markdown",
      "metadata": {
        "id": "pOav-mHSvnxR"
      },
      "source": [
        "Joueur d'algorithmes"
      ]
    },
    {
      "cell_type": "code",
      "metadata": {
        "id": "gwZHm7OOvn4A"
      },
      "source": [
        "def player_old(search_algorithm):\n",
        "    return lambda game, state: search_algorithm(game, state)[1] # Définition d'un joueur généraliste qui utilise une stratégie (algorithme de recherche)."
      ],
      "execution_count": 176,
      "outputs": []
    },
    {
      "cell_type": "markdown",
      "metadata": {
        "id": "zZweVTUtmFjY"
      },
      "source": [
        "Joueur d'algorithmes pour le *Monte_Carlo_Tree_Search*"
      ]
    },
    {
      "cell_type": "code",
      "metadata": {
        "id": "jTuR1q4VmFrP"
      },
      "source": [
        "def player(search_algorithm):\n",
        "    return lambda game, state: search_algorithm(game, state)"
      ],
      "execution_count": 178,
      "outputs": []
    },
    {
      "cell_type": "markdown",
      "metadata": {
        "id": "--n6bW7Tv64g"
      },
      "source": [
        "La fonction play_game qui reçoit le jeu actuel à jouer et une stratégie."
      ]
    },
    {
      "cell_type": "code",
      "metadata": {
        "id": "Nmh3b5Xuv694"
      },
      "source": [
        "def play_game(game, strategies: dict):\n",
        "    state = game.initial\n",
        "    while not game.end(state):\n",
        "      p = state.current_player\n",
        "      m = strategies[p](game, state)\n",
        "      state = game.make_move(state, m)\n",
        "      print (\"Player {} move: {}\" .format(p, m))\n",
        "      print (state)\n",
        "    \n",
        "    return state"
      ],
      "execution_count": 164,
      "outputs": []
    },
    {
      "cell_type": "markdown",
      "metadata": {
        "id": "SvnKMcC8v8yh"
      },
      "source": [
        " L'algorithme Minimax"
      ]
    },
    {
      "cell_type": "code",
      "metadata": {
        "id": "izEK9KBCv83z"
      },
      "source": [
        "infinity = math.inf\n",
        "\n",
        "def minimax_search(game, state):\n",
        "    player = state.current_player\n",
        "\n",
        "    def max_value(state):\n",
        "        if game.end(state):\n",
        "          return game.utility(state, player), None\n",
        "        \n",
        "        value, move = -infinity, None\n",
        "\n",
        "        for a in game.actions(state):\n",
        "          index, non = min_value(game.make_move(state, a))\n",
        "          if index > value:\n",
        "            value, move = index, a\n",
        "\n",
        "        return value, move\n",
        "\n",
        "    def min_value(state):\n",
        "        if game.end(state):\n",
        "          return game.utility(state, player), None\n",
        "        \n",
        "        value, move = +infinity, None\n",
        "\n",
        "        for a in game.actions(state):\n",
        "          index, non = max_value(game.make_move(state, a))\n",
        "          if index < value:\n",
        "            value, move = index, a\n",
        "        \n",
        "        return value, move\n",
        "\n",
        "    return max_value(state)"
      ],
      "execution_count": 165,
      "outputs": []
    },
    {
      "cell_type": "markdown",
      "metadata": {
        "id": "6oZ2lwZEwEO-"
      },
      "source": [
        "Démarrer et tester le jeu avec un random_player et un minimax_search player."
      ]
    },
    {
      "cell_type": "code",
      "metadata": {
        "colab": {
          "base_uri": "https://localhost:8080/"
        },
        "id": "dfEXSFmHwEVv",
        "outputId": "1ec2c738-ac05-4fb8-8803-73b7eca05a80"
      },
      "source": [
        "play_game(TicTacToe(), dict(X=random_player, O=player_old(minimax_search))).utility"
      ],
      "execution_count": 177,
      "outputs": [
        {
          "output_type": "stream",
          "name": "stdout",
          "text": [
            "Player X move: (1, 1)\n",
            ". . .\n",
            ". X .\n",
            ". . .\n",
            "\n",
            "Player O move: (0, 0)\n",
            "O . .\n",
            ". X .\n",
            ". . .\n",
            "\n",
            "Player X move: (2, 1)\n",
            "O . .\n",
            ". X X\n",
            ". . .\n",
            "\n",
            "Player O move: (0, 1)\n",
            "O . .\n",
            "O X X\n",
            ". . .\n",
            "\n",
            "Player X move: (1, 2)\n",
            "O . .\n",
            "O X X\n",
            ". X .\n",
            "\n",
            "Player O move: (1, 0)\n",
            "O O .\n",
            "O X X\n",
            ". X .\n",
            "\n",
            "Player X move: (0, 2)\n",
            "O O .\n",
            "O X X\n",
            "X X .\n",
            "\n",
            "Player O move: (2, 0)\n",
            "O O O\n",
            "O X X\n",
            "X X .\n",
            "\n"
          ]
        },
        {
          "output_type": "execute_result",
          "data": {
            "text/plain": [
              "-1"
            ]
          },
          "metadata": {},
          "execution_count": 177
        }
      ]
    },
    {
      "cell_type": "markdown",
      "metadata": {
        "id": "H_KfUqEmwJkQ"
      },
      "source": [
        "Tache #1 : ConnectFour()"
      ]
    },
    {
      "cell_type": "code",
      "metadata": {
        "id": "a0Io0K-kwJqi"
      },
      "source": [
        "class ConnectFour(TicTacToe):\n",
        "    \n",
        "    def __init__(self): super().__init__(width=7, height=6, k=4) # J'ai appelé la superclasse et mis la largeur à 7, la hauteur à 6 et la combinaison gagnante à 4.\n",
        "\n",
        "    def actions(self, board):\n",
        "        return {(x, y) for (x, y) in self.squares - set(board) if y == board.height - 1 or (x, y + 1) in board} # La fonction qui oblige le joueur à n'opérer que dans la cellule vide la plus basse d'une colonne."
      ],
      "execution_count": 167,
      "outputs": []
    },
    {
      "cell_type": "markdown",
      "metadata": {
        "id": "U1Yo-yMtx_kX"
      },
      "source": [
        "Démarrer et tester le jeu avec deux random_player."
      ]
    },
    {
      "cell_type": "code",
      "metadata": {
        "id": "attwLghdx_q_",
        "colab": {
          "base_uri": "https://localhost:8080/"
        },
        "outputId": "18ca39a9-3518-4812-a390-0c3398bd9267"
      },
      "source": [
        "play_game(ConnectFour(), dict(X=random_player, O=random_player)).utility"
      ],
      "execution_count": 170,
      "outputs": [
        {
          "output_type": "stream",
          "name": "stdout",
          "text": [
            "Player X move: (2, 5)\n",
            ". . . . . . .\n",
            ". . . . . . .\n",
            ". . . . . . .\n",
            ". . . . . . .\n",
            ". . . . . . .\n",
            ". . X . . . .\n",
            "\n",
            "Player O move: (1, 5)\n",
            ". . . . . . .\n",
            ". . . . . . .\n",
            ". . . . . . .\n",
            ". . . . . . .\n",
            ". . . . . . .\n",
            ". O X . . . .\n",
            "\n",
            "Player X move: (0, 5)\n",
            ". . . . . . .\n",
            ". . . . . . .\n",
            ". . . . . . .\n",
            ". . . . . . .\n",
            ". . . . . . .\n",
            "X O X . . . .\n",
            "\n",
            "Player O move: (2, 4)\n",
            ". . . . . . .\n",
            ". . . . . . .\n",
            ". . . . . . .\n",
            ". . . . . . .\n",
            ". . O . . . .\n",
            "X O X . . . .\n",
            "\n",
            "Player X move: (6, 5)\n",
            ". . . . . . .\n",
            ". . . . . . .\n",
            ". . . . . . .\n",
            ". . . . . . .\n",
            ". . O . . . .\n",
            "X O X . . . X\n",
            "\n",
            "Player O move: (2, 3)\n",
            ". . . . . . .\n",
            ". . . . . . .\n",
            ". . . . . . .\n",
            ". . O . . . .\n",
            ". . O . . . .\n",
            "X O X . . . X\n",
            "\n",
            "Player X move: (0, 4)\n",
            ". . . . . . .\n",
            ". . . . . . .\n",
            ". . . . . . .\n",
            ". . O . . . .\n",
            "X . O . . . .\n",
            "X O X . . . X\n",
            "\n",
            "Player O move: (6, 4)\n",
            ". . . . . . .\n",
            ". . . . . . .\n",
            ". . . . . . .\n",
            ". . O . . . .\n",
            "X . O . . . O\n",
            "X O X . . . X\n",
            "\n",
            "Player X move: (3, 5)\n",
            ". . . . . . .\n",
            ". . . . . . .\n",
            ". . . . . . .\n",
            ". . O . . . .\n",
            "X . O . . . O\n",
            "X O X X . . X\n",
            "\n",
            "Player O move: (6, 3)\n",
            ". . . . . . .\n",
            ". . . . . . .\n",
            ". . . . . . .\n",
            ". . O . . . O\n",
            "X . O . . . O\n",
            "X O X X . . X\n",
            "\n",
            "Player X move: (2, 2)\n",
            ". . . . . . .\n",
            ". . . . . . .\n",
            ". . X . . . .\n",
            ". . O . . . O\n",
            "X . O . . . O\n",
            "X O X X . . X\n",
            "\n",
            "Player O move: (6, 2)\n",
            ". . . . . . .\n",
            ". . . . . . .\n",
            ". . X . . . O\n",
            ". . O . . . O\n",
            "X . O . . . O\n",
            "X O X X . . X\n",
            "\n",
            "Player X move: (1, 4)\n",
            ". . . . . . .\n",
            ". . . . . . .\n",
            ". . X . . . O\n",
            ". . O . . . O\n",
            "X X O . . . O\n",
            "X O X X . . X\n",
            "\n",
            "Player O move: (3, 4)\n",
            ". . . . . . .\n",
            ". . . . . . .\n",
            ". . X . . . O\n",
            ". . O . . . O\n",
            "X X O O . . O\n",
            "X O X X . . X\n",
            "\n",
            "Player X move: (5, 5)\n",
            ". . . . . . .\n",
            ". . . . . . .\n",
            ". . X . . . O\n",
            ". . O . . . O\n",
            "X X O O . . O\n",
            "X O X X . X X\n",
            "\n",
            "Player O move: (6, 1)\n",
            ". . . . . . .\n",
            ". . . . . . O\n",
            ". . X . . . O\n",
            ". . O . . . O\n",
            "X X O O . . O\n",
            "X O X X . X X\n",
            "\n"
          ]
        },
        {
          "output_type": "execute_result",
          "data": {
            "text/plain": [
              "-1"
            ]
          },
          "metadata": {},
          "execution_count": 170
        }
      ]
    },
    {
      "cell_type": "markdown",
      "metadata": {
        "id": "si811PszxhtI"
      },
      "source": [
        "Tache #2 : Upper Confidence Bound for Trees"
      ]
    },
    {
      "cell_type": "markdown",
      "metadata": {
        "id": "Yqy-DCtR1ZTh"
      },
      "source": [
        "La class *Monte Carlo Tree Node*"
      ]
    },
    {
      "cell_type": "code",
      "metadata": {
        "id": "eVqOCirH1ZgH"
      },
      "source": [
        "class MCTN:\n",
        "    def __init__(self, parent=None, state=None, U=0, N=0):\n",
        "        self.__dict__.update(parent=parent, state=state, U=U, N=N) # Le nœud dans l'arbre de recherche Monte Carlo garde une trace des états enfants.\n",
        "        self.children = {}\n",
        "        self.actions = None\n",
        "\n",
        "\n",
        "def ucb(n, C=1.4):\n",
        "    return np.inf if n.N == 0 else n.U / n.N + C * np.sqrt(np.log(n.parent.N) / n.N) # Trouvez l’action qui maximise cette formule."
      ],
      "execution_count": 171,
      "outputs": []
    },
    {
      "cell_type": "code",
      "metadata": {
        "id": "iTvdxNYmxhx_"
      },
      "source": [
        "def monte_carlo_tree_search(game, state, N=50): # N représente le nombre de simulations avant d'effectuer un mouvement.\n",
        "    def selection(n): # Une stratégie de sélection d'une action à exploiter (choix d'un nœud feuille dans l'arbre).\n",
        "        if n.children:\n",
        "            return selection(max(n.children.keys(), key=ucb)) # Sélectionnez un nœud feuille dans l'arborescence.\n",
        "        else:\n",
        "            return n\n",
        "\n",
        "    def expansion(n): # La construction d'un nouveau nœud dans l'arbre (ajouter les états des enfants au nœud de la feuille)\n",
        "        if not n.children and not game.end(n.state):\n",
        "            n.children = {MCTN(state=game.make_move(n.state, action), parent=n): action for action in game.actions(n.state)}\n",
        "        return selection(n) # Développez le nœud feuille en ajoutant tous ses états d'enfants.\n",
        "\n",
        "    def simulation(game, state):\n",
        "        player = state.current_player\n",
        "        while not game.end(state):\n",
        "            action = random.choice(list(game.actions(state))) # Simulez l'utilité de l'état actuel en choisissant au hasard une étape.\n",
        "            state = game.make_move(state, action)\n",
        "        v = game.utility(state, player)\n",
        "        return -v\n",
        "\n",
        "    def backpropagation(n, utility):\n",
        "        if utility > 0:\n",
        "            n.U += utility\n",
        "        n.N += 1\n",
        "        if n.parent:\n",
        "            backpropagation(n.parent, -utility) # Renvoyer l'utility à tous les nœuds parents.\n",
        "\n",
        "    root = MCTN(state=state)\n",
        "\n",
        "    for _ in range(N): # Après N cas, nous déterminons quel est le meilleur mouvement après avoir traversé les quatre phases.\n",
        "        leaf = selection(root)\n",
        "        child = expansion(leaf)\n",
        "        result = simulation(game, child.state)\n",
        "        backpropagation(child, result)\n",
        "\n",
        "    max_state = max(root.children, key=lambda p: p.N) # Évaluez le statut final et déterminez si une récompense est calculée.\n",
        "\n",
        "    return root.children.get(max_state)"
      ],
      "execution_count": 191,
      "outputs": []
    },
    {
      "cell_type": "markdown",
      "metadata": {
        "id": "iNzsd3Bc0bNo"
      },
      "source": [
        "Démarrer et tester le jeu avec un random_player et un monte_carlo_tree_search player."
      ]
    },
    {
      "cell_type": "code",
      "metadata": {
        "colab": {
          "base_uri": "https://localhost:8080/"
        },
        "id": "xuHgdlV80bVW",
        "outputId": "26bd9f81-7382-4f3f-aefa-a7cafde07b2e"
      },
      "source": [
        "play_game(ConnectFour(), dict(X=random_player, O=player(monte_carlo_tree_search))).utility"
      ],
      "execution_count": 193,
      "outputs": [
        {
          "output_type": "stream",
          "name": "stdout",
          "text": [
            "Player X move: (5, 5)\n",
            ". . . . . . .\n",
            ". . . . . . .\n",
            ". . . . . . .\n",
            ". . . . . . .\n",
            ". . . . . . .\n",
            ". . . . . X .\n",
            "\n",
            "Player O move: (6, 5)\n",
            ". . . . . . .\n",
            ". . . . . . .\n",
            ". . . . . . .\n",
            ". . . . . . .\n",
            ". . . . . . .\n",
            ". . . . . X O\n",
            "\n",
            "Player X move: (1, 5)\n",
            ". . . . . . .\n",
            ". . . . . . .\n",
            ". . . . . . .\n",
            ". . . . . . .\n",
            ". . . . . . .\n",
            ". X . . . X O\n",
            "\n",
            "Player O move: (0, 5)\n",
            ". . . . . . .\n",
            ". . . . . . .\n",
            ". . . . . . .\n",
            ". . . . . . .\n",
            ". . . . . . .\n",
            "O X . . . X O\n",
            "\n",
            "Player X move: (5, 4)\n",
            ". . . . . . .\n",
            ". . . . . . .\n",
            ". . . . . . .\n",
            ". . . . . . .\n",
            ". . . . . X .\n",
            "O X . . . X O\n",
            "\n",
            "Player O move: (4, 5)\n",
            ". . . . . . .\n",
            ". . . . . . .\n",
            ". . . . . . .\n",
            ". . . . . . .\n",
            ". . . . . X .\n",
            "O X . . O X O\n",
            "\n",
            "Player X move: (6, 4)\n",
            ". . . . . . .\n",
            ". . . . . . .\n",
            ". . . . . . .\n",
            ". . . . . . .\n",
            ". . . . . X X\n",
            "O X . . O X O\n",
            "\n",
            "Player O move: (3, 5)\n",
            ". . . . . . .\n",
            ". . . . . . .\n",
            ". . . . . . .\n",
            ". . . . . . .\n",
            ". . . . . X X\n",
            "O X . O O X O\n",
            "\n",
            "Player X move: (4, 4)\n",
            ". . . . . . .\n",
            ". . . . . . .\n",
            ". . . . . . .\n",
            ". . . . . . .\n",
            ". . . . X X X\n",
            "O X . O O X O\n",
            "\n",
            "Player O move: (3, 4)\n",
            ". . . . . . .\n",
            ". . . . . . .\n",
            ". . . . . . .\n",
            ". . . . . . .\n",
            ". . . O X X X\n",
            "O X . O O X O\n",
            "\n",
            "Player X move: (4, 3)\n",
            ". . . . . . .\n",
            ". . . . . . .\n",
            ". . . . . . .\n",
            ". . . . X . .\n",
            ". . . O X X X\n",
            "O X . O O X O\n",
            "\n",
            "Player O move: (3, 3)\n",
            ". . . . . . .\n",
            ". . . . . . .\n",
            ". . . . . . .\n",
            ". . . O X . .\n",
            ". . . O X X X\n",
            "O X . O O X O\n",
            "\n",
            "Player X move: (5, 3)\n",
            ". . . . . . .\n",
            ". . . . . . .\n",
            ". . . . . . .\n",
            ". . . O X X .\n",
            ". . . O X X X\n",
            "O X . O O X O\n",
            "\n",
            "Player O move: (3, 2)\n",
            ". . . . . . .\n",
            ". . . . . . .\n",
            ". . . O . . .\n",
            ". . . O X X .\n",
            ". . . O X X X\n",
            "O X . O O X O\n",
            "\n"
          ]
        },
        {
          "output_type": "execute_result",
          "data": {
            "text/plain": [
              "-1"
            ]
          },
          "metadata": {},
          "execution_count": 193
        }
      ]
    },
    {
      "cell_type": "markdown",
      "metadata": {
        "id": "PsumQzJeH0qI"
      },
      "source": [
        "Tache #3 : Query player"
      ]
    },
    {
      "cell_type": "code",
      "metadata": {
        "id": "2SZIj-W-H0zG"
      },
      "source": [
        "def query_player(game, state):\n",
        "    print(\"Usable moves: {}\" .format(game.actions(state))) # Afficher les mouvements disponibles / légaux.\n",
        "    print(\"\")\n",
        "    move = None\n",
        "    if game.actions(state):\n",
        "        move_string = input('Choose your move: ') # Faire un mouvement en interrogeant l'entrée.\n",
        "        try:\n",
        "            move = eval(move_string) # Analyse de l'expression passée à cette méthode et exécute le code.\n",
        "        except NameError:\n",
        "            move = move_string\n",
        "    else:\n",
        "        print('Unavailable moves: Loading next player')\n",
        "    return move"
      ],
      "execution_count": 194,
      "outputs": []
    },
    {
      "cell_type": "markdown",
      "metadata": {
        "id": "KJoIDixOIklm"
      },
      "source": [
        "Démarrer et tester le jeu avec un random_player et un query_player."
      ]
    },
    {
      "cell_type": "code",
      "metadata": {
        "colab": {
          "base_uri": "https://localhost:8080/"
        },
        "id": "xmAnVFQFIksa",
        "outputId": "e5c0818d-de04-4f09-e7b8-62a5bd55903f"
      },
      "source": [
        "play_game(ConnectFour(), dict(X=random_player, O=query_player)).utility"
      ],
      "execution_count": 196,
      "outputs": [
        {
          "output_type": "stream",
          "name": "stdout",
          "text": [
            "Player X move: (3, 5)\n",
            ". . . . . . .\n",
            ". . . . . . .\n",
            ". . . . . . .\n",
            ". . . . . . .\n",
            ". . . . . . .\n",
            ". . . X . . .\n",
            "\n",
            "Usable moves: {(5, 5), (4, 5), (1, 5), (0, 5), (2, 5), (3, 4), (6, 5)}\n",
            "\n",
            "Choose your move: 3,4\n",
            "Player O move: (3, 4)\n",
            ". . . . . . .\n",
            ". . . . . . .\n",
            ". . . . . . .\n",
            ". . . . . . .\n",
            ". . . O . . .\n",
            ". . . X . . .\n",
            "\n",
            "Player X move: (0, 5)\n",
            ". . . . . . .\n",
            ". . . . . . .\n",
            ". . . . . . .\n",
            ". . . . . . .\n",
            ". . . O . . .\n",
            "X . . X . . .\n",
            "\n",
            "Usable moves: {(5, 5), (3, 3), (4, 5), (1, 5), (0, 4), (2, 5), (6, 5)}\n",
            "\n",
            "Choose your move: 2,5\n",
            "Player O move: (2, 5)\n",
            ". . . . . . .\n",
            ". . . . . . .\n",
            ". . . . . . .\n",
            ". . . . . . .\n",
            ". . . O . . .\n",
            "X . O X . . .\n",
            "\n",
            "Player X move: (2, 4)\n",
            ". . . . . . .\n",
            ". . . . . . .\n",
            ". . . . . . .\n",
            ". . . . . . .\n",
            ". . X O . . .\n",
            "X . O X . . .\n",
            "\n",
            "Usable moves: {(5, 5), (3, 3), (4, 5), (1, 5), (2, 3), (0, 4), (6, 5)}\n",
            "\n",
            "Choose your move: 2,3\n",
            "Player O move: (2, 3)\n",
            ". . . . . . .\n",
            ". . . . . . .\n",
            ". . . . . . .\n",
            ". . O . . . .\n",
            ". . X O . . .\n",
            "X . O X . . .\n",
            "\n",
            "Player X move: (3, 3)\n",
            ". . . . . . .\n",
            ". . . . . . .\n",
            ". . . . . . .\n",
            ". . O X . . .\n",
            ". . X O . . .\n",
            "X . O X . . .\n",
            "\n",
            "Usable moves: {(3, 2), (5, 5), (4, 5), (2, 2), (1, 5), (0, 4), (6, 5)}\n",
            "\n",
            "Choose your move: 4,5\n",
            "Player O move: (4, 5)\n",
            ". . . . . . .\n",
            ". . . . . . .\n",
            ". . . . . . .\n",
            ". . O X . . .\n",
            ". . X O . . .\n",
            "X . O X O . .\n",
            "\n",
            "Player X move: (4, 4)\n",
            ". . . . . . .\n",
            ". . . . . . .\n",
            ". . . . . . .\n",
            ". . O X . . .\n",
            ". . X O X . .\n",
            "X . O X O . .\n",
            "\n",
            "Usable moves: {(3, 2), (5, 5), (2, 2), (1, 5), (4, 3), (0, 4), (6, 5)}\n",
            "\n",
            "Choose your move: 2,2\n",
            "Player O move: (2, 2)\n",
            ". . . . . . .\n",
            ". . . . . . .\n",
            ". . O . . . .\n",
            ". . O X . . .\n",
            ". . X O X . .\n",
            "X . O X O . .\n",
            "\n",
            "Player X move: (6, 5)\n",
            ". . . . . . .\n",
            ". . . . . . .\n",
            ". . O . . . .\n",
            ". . O X . . .\n",
            ". . X O X . .\n",
            "X . O X O . X\n",
            "\n",
            "Usable moves: {(6, 4), (3, 2), (5, 5), (2, 1), (1, 5), (4, 3), (0, 4)}\n",
            "\n",
            "Choose your move: 2,1\n",
            "Player O move: (2, 1)\n",
            ". . . . . . .\n",
            ". . O . . . .\n",
            ". . O . . . .\n",
            ". . O X . . .\n",
            ". . X O X . .\n",
            "X . O X O . X\n",
            "\n",
            "Player X move: (5, 5)\n",
            ". . . . . . .\n",
            ". . O . . . .\n",
            ". . O . . . .\n",
            ". . O X . . .\n",
            ". . X O X . .\n",
            "X . O X O X X\n",
            "\n",
            "Usable moves: {(6, 4), (3, 2), (5, 4), (1, 5), (2, 0), (4, 3), (0, 4)}\n",
            "\n",
            "Choose your move: 2,0\n",
            "Player O move: (2, 0)\n",
            ". . O . . . .\n",
            ". . O . . . .\n",
            ". . O . . . .\n",
            ". . O X . . .\n",
            ". . X O X . .\n",
            "X . O X O X X\n",
            "\n"
          ]
        },
        {
          "output_type": "execute_result",
          "data": {
            "text/plain": [
              "-1"
            ]
          },
          "metadata": {},
          "execution_count": 196
        }
      ]
    }
  ]
}